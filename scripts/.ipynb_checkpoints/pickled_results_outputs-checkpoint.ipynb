{
 "cells": [
  {
   "cell_type": "code",
   "execution_count": 50,
   "metadata": {},
   "outputs": [],
   "source": [
    "import json\n",
    "import random\n",
    "import pickle\n",
    "import statistics as stat\n",
    "import pandas as pd\n",
    "from nltk.stem import WordNetLemmatizer, SnowballStemmer\n",
    "import nltk\n",
    "from nltk.corpus import stopwords\n",
    "import matplotlib.pyplot as plt\n",
    "import numpy as np\n",
    "from sklearn.feature_extraction.text import TfidfVectorizer,CountVectorizer,TfidfTransformer\n",
    "from sklearn.svm import SVC,LinearSVC\n",
    "from sklearn.linear_model import LogisticRegression\n",
    "from sklearn.naive_bayes import GaussianNB\n",
    "from sklearn.base import TransformerMixin\n",
    "from sklearn.model_selection import cross_val_score,train_test_split,GridSearchCV\n",
    "from sklearn.metrics import roc_auc_score,confusion_matrix,accuracy_score,f1_score,precision_score,recall_score,precision_recall_fscore_support,classification_report\n",
    "from sklearn.decomposition import PCA\n",
    "from sklearn.pipeline import Pipeline\n",
    "import seaborn as sns\n",
    "%matplotlib inline\n",
    "stopwords = stopwords.words('english')\n",
    "import timeit"
   ]
  },
  {
   "cell_type": "code",
   "execution_count": 51,
   "metadata": {},
   "outputs": [],
   "source": [
    "with open('../outputs/pickled_results/GNB_RESULTS.pickle' , 'rb') as handle: gnb_results = pickle.load(handle)"
   ]
  },
  {
   "cell_type": "code",
   "execution_count": 52,
   "metadata": {
    "scrolled": false
   },
   "outputs": [
    {
     "data": {
      "text/plain": [
       "[[[[0, 0, 0], [0, 0, 0]],\n",
       "  [[0.67, 0.72, 0.68], [0.6, 0.62, 0.61]],\n",
       "  [[0.55, 0.57, 0.54], [0.61, 0.64, 0.61]]],\n",
       " [[[0, 0, 0], [0, 0, 0]],\n",
       "  [[0.66, 0.71, 0.67], [0.72, 0.77, 0.73]],\n",
       "  [[0.69, 0.75, 0.7], [0.7, 0.75, 0.71]]],\n",
       " [[[0, 0, 0], [0, 0, 0]],\n",
       "  [[0.69, 0.76, 0.69], [0.68, 0.74, 0.69]],\n",
       "  [[0.67, 0.74, 0.68], [0.69, 0.74, 0.7]]],\n",
       " [[[0, 0, 0], [0, 0, 0]],\n",
       "  [[0.67, 0.74, 0.67], [0.7, 0.76, 0.7]],\n",
       "  [[0.7, 0.79, 0.71], [0.71, 0.77, 0.71]]],\n",
       " [[[0, 0, 0], [0, 0, 0]],\n",
       "  [[0.7, 0.78, 0.71], [0.73, 0.8, 0.74]],\n",
       "  [[0.67, 0.74, 0.67], [0.67, 0.71, 0.67]]],\n",
       " [[[0, 0, 0], [0, 0, 0]],\n",
       "  [[0.66, 0.72, 0.66], [0.69, 0.74, 0.7]],\n",
       "  [[0.67, 0.75, 0.67], [0.7, 0.77, 0.71]]],\n",
       " [[[0, 0, 0], [0, 0, 0]],\n",
       "  [[0.69, 0.76, 0.7], [0.74, 0.81, 0.75]],\n",
       "  [[0.7, 0.77, 0.71], [0.73, 0.79, 0.74]]],\n",
       " [[[0, 0, 0], [0, 0, 0]],\n",
       "  [[0.7, 0.77, 0.71], [0.71, 0.76, 0.72]],\n",
       "  [[0.7, 0.77, 0.71], [0.74, 0.81, 0.76]]],\n",
       " [[[0, 0, 0], [0, 0, 0]],\n",
       "  [[0.71, 0.78, 0.72], [0.74, 0.8, 0.75]],\n",
       "  [[0.7, 0.78, 0.72], [0.75, 0.81, 0.76]]],\n",
       " [[[0, 0, 0], [0, 0, 0]],\n",
       "  [[0.72, 0.79, 0.73], [0.74, 0.79, 0.75]],\n",
       "  [[0.72, 0.79, 0.73], [0.74, 0.79, 0.75]]],\n",
       " [[[0, 0, 0], [0, 0, 0]],\n",
       "  [[0.72, 0.79, 0.73], [0.74, 0.8, 0.76]],\n",
       "  [[0.72, 0.79, 0.73], [0.74, 0.8, 0.76]]]]"
      ]
     },
     "execution_count": 52,
     "metadata": {},
     "output_type": "execute_result"
    }
   ],
   "source": [
    "gnb_results"
   ]
  },
  {
   "cell_type": "code",
   "execution_count": 49,
   "metadata": {},
   "outputs": [
    {
     "data": {
      "text/plain": [
       "[0.58, 0.58, 0.58]"
      ]
     },
     "execution_count": 49,
     "metadata": {},
     "output_type": "execute_result"
    }
   ],
   "source": [
    "[float(i) for i in classification_report([1,0,1,1,0],[1,1,1,0,0]).split('\\n')[6].split('      ')[1:-1]]"
   ]
  },
  {
   "cell_type": "code",
   "execution_count": null,
   "metadata": {},
   "outputs": [],
   "source": []
  }
 ],
 "metadata": {
  "kernelspec": {
   "display_name": "Python 3",
   "language": "python",
   "name": "python3"
  },
  "language_info": {
   "codemirror_mode": {
    "name": "ipython",
    "version": 3
   },
   "file_extension": ".py",
   "mimetype": "text/x-python",
   "name": "python",
   "nbconvert_exporter": "python",
   "pygments_lexer": "ipython3",
   "version": "3.7.6"
  }
 },
 "nbformat": 4,
 "nbformat_minor": 4
}
